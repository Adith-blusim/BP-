{
  "cells": [
    {
      "cell_type": "markdown",
      "metadata": {
        "id": "view-in-github",
        "colab_type": "text"
      },
      "source": [
        "<a href=\"https://colab.research.google.com/github/Adith-blusim/BP-/blob/main/1hrdatatraining.ipynb\" target=\"_parent\"><img src=\"https://colab.research.google.com/assets/colab-badge.svg\" alt=\"Open In Colab\"/></a>"
      ]
    },
    {
      "cell_type": "code",
      "execution_count": null,
      "metadata": {
        "id": "oKmN5xvtcwg1"
      },
      "outputs": [],
      "source": [
        "import pandas as pd\n",
        "import numpy as np\n",
        "df = pd.read_csv(\"data/para_monitor_2023-12-14.csv\")\n",
        "df = df.reset_index(drop=True)\n",
        "df = df.drop(['Unix Timestamp','RESP','ECG','SPO2'],axis=1)\n",
        "rdf = pd.read_csv(\"data/BP.csv\")\n",
        "rdf['Timestamp'] = pd.to_datetime(rdf['Timestamp'], format='%Y-%m-%d %H:%M:%S')\n",
        "df['Time'] = pd.to_datetime(df['Time'], format='%H:%M:%S')\n",
        "rdf['Timestamp'] = rdf['Timestamp'].dt.strftime('%H:%M:%S')\n",
        "df.set_index('Time', inplace=True)\n",
        "rdf = rdf.groupby('Timestamp').agg(lambda x: x.tolist()).reset_index()\n",
        "rdf.set_index('Timestamp', inplace=True)\n",
        "df=df.resample('S').ffill()\n",
        "df.index = df.index.strftime('%H:%M:%S')\n",
        "ldf = pd.merge(rdf,df, left_index=True, right_index=True)\n",
        "ldf[['Sistolic', 'Distolic']] = ldf[['Sistolic', 'Distolic']].replace('', np.nan)\n",
        "ldf.dropna(how='any', inplace=True)\n",
        "ldf['Sistolic'] = pd.to_numeric(ldf['Sistolic'], errors='coerce')\n",
        "ldf['Distolic'] = pd.to_numeric(ldf['Distolic'], errors='coerce')\n",
        "ldf = ldf.drop(ldf[ldf['Sistolic'].gt(140)].index)\n",
        "ldf = ldf.drop(ldf[ldf['Distolic'].gt(100)].index)\n",
        "ldf"
      ]
    },
    {
      "cell_type": "code",
      "execution_count": null,
      "metadata": {
        "id": "DPBL2DNicwg4"
      },
      "outputs": [],
      "source": [
        "from scipy.interpolate import PchipInterpolator\n",
        "\n",
        "def interpolate(arr):\n",
        "\n",
        "    pchip_interpolator = PchipInterpolator(np.arange(len(arr)), arr)\n",
        "    x_interp = np.linspace(0, len(arr) - 1, 123)\n",
        "    y_interp = pchip_interpolator(x_interp)\n",
        "    return y_interp.tolist()\n",
        "\n",
        "df_interpolated = ldf[['Chan1','Chan2','Chan3','Chan4']].applymap(interpolate)\n",
        "df_interpolated"
      ]
    },
    {
      "cell_type": "code",
      "execution_count": null,
      "metadata": {
        "id": "f3seAZOqcwg5"
      },
      "outputs": [],
      "source": [
        "from PyEMD import EMD\n",
        "from PyEMD import EEMD\n",
        "import matplotlib.pyplot as plt\n",
        "from scipy.signal import butter, lfilter, hilbert\n",
        "# Sample rate and desired cutoff frequencies (in Hz)\n",
        "fs = 138.0\n",
        "lowcut = 0.5\n",
        "highcut = 6.0\n",
        "def butter_bandpass(lowcut, highcut, fs, order=3):\n",
        "    nyq = 0.5 * fs\n",
        "    low = lowcut / nyq\n",
        "    high = highcut / nyq\n",
        "    b, a = butter(order, [low, high], btype='band')\n",
        "    return b, a\n",
        "def butter_bandpass_filter(data, lowcut, highcut, fs, order=3):\n",
        "    b, a = butter_bandpass(lowcut, highcut, fs, order=order)\n",
        "    y = lfilter(b, a, data)\n",
        "    return y\n",
        "# Apply the Butterworth band-pass filter to the data\n",
        "bdf = pd.DataFrame()\n",
        "bdf['buttered_channel1'] = [butter_bandpass_filter(data, lowcut, highcut, fs, order=3) for data in df_interpolated['Chan1']]\n",
        "bdf['buttered_channel2'] = [butter_bandpass_filter(data, lowcut, highcut, fs, order=3) for data in df_interpolated['Chan2']]\n",
        "bdf['buttered_channel3'] = [butter_bandpass_filter(data, lowcut, highcut, fs, order=3) for data in df_interpolated['Chan3']]\n",
        "bdf['buttered_channel4'] = [butter_bandpass_filter(data, lowcut, highcut, fs, order=3) for data in df_interpolated['Chan4']]\n",
        "\n",
        "eemd = EMD()\n",
        "imf1c1 = []\n",
        "imf1c2 = []\n",
        "imf1c3 = []\n",
        "imf1c4 = []\n",
        "\n",
        "for i in bdf['buttered_channel1']:\n",
        "    time = np.arange(0, len(i)) / fs\n",
        "    IMFs = eemd.emd(i, time)\n",
        "    i1 = IMFs[0]\n",
        "    imf1c1.append(i1)\n",
        "\n",
        "for i in bdf['buttered_channel2']:\n",
        "    time = np.arange(0, len(i)) / fs\n",
        "    IMFs = eemd.emd(i, time)\n",
        "    i1 = IMFs[0]\n",
        "    imf1c2.append(i1)\n",
        "\n",
        "for i in bdf['buttered_channel3']:\n",
        "    time = np.arange(0, len(i)) / fs\n",
        "    IMFs = eemd.emd(i, time)\n",
        "    i1 = IMFs[0]\n",
        "    imf1c3.append(i1)\n",
        "\n",
        "for i in bdf['buttered_channel4']:\n",
        "    time = np.arange(0, len(i)) / fs\n",
        "    IMFs = eemd.emd(i, time)\n",
        "    i1 = IMFs[0]\n",
        "    imf1c4.append(i1)\n",
        "\n",
        "ins_phase_c1 = []\n",
        "ins_phase_c2 = []\n",
        "ins_phase_c3 = []\n",
        "ins_phase_c4 = []\n",
        "\n",
        "for i in imf1c1:\n",
        "    analytic_signal = hilbert(i)\n",
        "    instantaneous_phase = np.angle(analytic_signal)\n",
        "    ins_phase_c1.append(instantaneous_phase)\n",
        "\n",
        "for i in imf1c2:\n",
        "    analytic_signal = hilbert(i)\n",
        "    instantaneous_phase = np.angle(analytic_signal)\n",
        "    ins_phase_c2.append(instantaneous_phase)\n",
        "\n",
        "for i in imf1c3:\n",
        "    analytic_signal = hilbert(i)\n",
        "    instantaneous_phase = np.angle(analytic_signal)\n",
        "    ins_phase_c3.append(instantaneous_phase)\n",
        "\n",
        "for i in imf1c4:\n",
        "    analytic_signal = hilbert(i)\n",
        "    instantaneous_phase = np.angle(analytic_signal)\n",
        "    ins_phase_c4.append(instantaneous_phase)"
      ]
    },
    {
      "cell_type": "code",
      "execution_count": null,
      "metadata": {
        "id": "vcbpK8tLcwg5"
      },
      "outputs": [],
      "source": [
        "from sklearn.model_selection import train_test_split\n",
        "merged_ipc = np.stack((ins_phase_c1,ins_phase_c2,ins_phase_c3,ins_phase_c4), axis=1)\n",
        "merged_ipc = np.swapaxes(merged_ipc, 1, 2)\n",
        "print(merged_ipc.shape)\n",
        "\n",
        "X_train = merged_ipc\n",
        "Y_train = ldf[['Sistolic', 'Distolic']].to_numpy().astype('float32')\n",
        "X_train, X_test, Y_train, Y_test = train_test_split(X_train, Y_train, test_size=0.2, random_state=42)"
      ]
    },
    {
      "cell_type": "code",
      "execution_count": null,
      "metadata": {
        "id": "FptINej9cwg6"
      },
      "outputs": [],
      "source": [
        "import tensorflow as tf\n",
        "from tensorflow.keras.models import Sequential\n",
        "from tensorflow.keras.layers import Conv1D, MaxPooling1D, GlobalAveragePooling1D, Flatten, Dense, BatchNormalization\n",
        "tf.keras.backend.clear_session()\n",
        "\n",
        "input_shape =  (123, 4)\n",
        "model = Sequential()\n",
        "\n",
        "#first Conv layer\n",
        "model.add(Conv1D(filters=100, kernel_size=21, strides=1, input_shape=input_shape))\n",
        "model.add(BatchNormalization())\n",
        "model.add(tf.keras.layers.ReLU())\n",
        "model.add(MaxPooling1D(pool_size=2))\n",
        "\n",
        "#second Conv layer\n",
        "model.add(Conv1D(filters=200, kernel_size=5))\n",
        "model.add(BatchNormalization())\n",
        "model.add(tf.keras.layers.ReLU())\n",
        "model.add(MaxPooling1D(pool_size=2))\n",
        "\n",
        "#third Conv layer\n",
        "model.add(Conv1D(filters=300, kernel_size=5))\n",
        "model.add(BatchNormalization())\n",
        "model.add(tf.keras.layers.ReLU())\n",
        "model.add(MaxPooling1D(pool_size=2))\n",
        "\n",
        "#GlobalAveragePooling1D layer\n",
        "model.add(GlobalAveragePooling1D())\n",
        "#Final dense layer\n",
        "model.add(Dense(2, activation='linear'))\n",
        "\n",
        "model.compile(loss=tf.keras.losses.mean_squared_error, optimizer=tf.keras.optimizers.Adam(learning_rate=0.001))\n",
        "model.summary()\n",
        "history = model.fit(X_train, Y_train, epochs=50, validation_data=(X_test, Y_test), batch_size=64)"
      ]
    },
    {
      "cell_type": "code",
      "execution_count": null,
      "metadata": {
        "id": "1hhUS7k2cwg6"
      },
      "outputs": [],
      "source": [
        "predictions = model.predict(X_test)\n",
        "yf = pd.DataFrame(predictions, columns=['Systolic(predicted)', 'Diastolic(predicted)'])\n",
        "yf[['Systolic(actual)', 'Diastolic(actual)']] = pd.DataFrame(Y_test, columns=['Systolic(actual)', 'Diastolic(actual)'])\n",
        "yf"
      ]
    },
    {
      "cell_type": "code",
      "execution_count": null,
      "metadata": {
        "id": "rE_9osjlcwg6"
      },
      "outputs": [],
      "source": [
        "import matplotlib.pyplot as plt\n",
        "import seaborn as sns\n",
        "import numpy as np\n",
        "# Plotting training and validation loss\n",
        "plt.figure(figsize=(10, 6))\n",
        "\n",
        "# Training loss\n",
        "plt.plot(history.history['loss'], label='Training Loss', marker='o')\n",
        "\n",
        "# Validation loss\n",
        "plt.plot(history.history['val_loss'], label='Validation Loss', marker='o')\n",
        "\n",
        "# Adding labels and title\n",
        "plt.xlabel('Epochs')\n",
        "plt.ylabel('Loss')\n",
        "plt.title('Training Performance')\n",
        "plt.legend()\n",
        "\n",
        "# Adding grid for better readability\n",
        "plt.grid(True)\n",
        "\n",
        "# Show plot\n",
        "plt.show()"
      ]
    },
    {
      "cell_type": "code",
      "execution_count": null,
      "metadata": {
        "id": "KAzG_8y6cwg7"
      },
      "outputs": [],
      "source": [
        "sample_indices = np.arange(len(yf))\n",
        "plt.figure(figsize=(70,10))\n",
        "# Plotting line graph for output 1\n",
        "plt.plot(sample_indices, yf['Systolic(actual)'], label='Systolic(actual)', linestyle='-', color='blue')\n",
        "plt.plot(sample_indices, yf['Systolic(predicted)'], label='Systolic(predicted)', linestyle='--', color='cyan')\n",
        "\n",
        "# Plotting line graph for output 2\n",
        "plt.plot(sample_indices, yf['Diastolic(actual)'], label='Diastolic(actual)', linestyle='-', color='green')\n",
        "plt.plot(sample_indices, yf['Diastolic(predicted)'], label='Diastolic(predicted)', linestyle='--', color='lime')\n",
        "\n",
        "# Set labels and title\n",
        "plt.xlabel('Sample Index')\n",
        "plt.ylabel('Output Values')\n",
        "plt.title('Comparison of Predicted and True Outputs')\n",
        "\n",
        "# Show legend\n",
        "plt.legend()\n",
        "\n",
        "# Show the plot\n",
        "plt.show()"
      ]
    }
  ],
  "metadata": {
    "kernelspec": {
      "display_name": "bp",
      "language": "python",
      "name": "python3"
    },
    "language_info": {
      "codemirror_mode": {
        "name": "ipython",
        "version": 3
      },
      "file_extension": ".py",
      "mimetype": "text/x-python",
      "name": "python",
      "nbconvert_exporter": "python",
      "pygments_lexer": "ipython3",
      "version": "3.10.13"
    },
    "colab": {
      "provenance": [],
      "include_colab_link": true
    }
  },
  "nbformat": 4,
  "nbformat_minor": 0
}